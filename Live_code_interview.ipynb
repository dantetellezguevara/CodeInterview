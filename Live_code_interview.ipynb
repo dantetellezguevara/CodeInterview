{
  "nbformat": 4,
  "nbformat_minor": 0,
  "metadata": {
    "colab": {
      "provenance": []
    },
    "kernelspec": {
      "name": "python3",
      "display_name": "Python 3"
    },
    "language_info": {
      "name": "python"
    }
  },
  "cells": [
    {
      "cell_type": "markdown",
      "source": [
        "# SQL Code Challenge"
      ],
      "metadata": {
        "id": "vIq0YAY5kWix"
      }
    },
    {
      "cell_type": "code",
      "source": [
        "import sqlite3\n",
        "\n",
        "# Create an in-memory SQLite database\n",
        "connection = sqlite3.connect(':memory:')\n",
        "cursor = connection.cursor()\n",
        "\n",
        "# Step 1: Create the Employees table\n",
        "create_employees_table_query = \"\"\"\n",
        "CREATE TABLE Employees (\n",
        "    EmployeeID INTEGER PRIMARY KEY AUTOINCREMENT,\n",
        "    Name TEXT NOT NULL,\n",
        "    DepartmentID INTEGER,\n",
        "    Position TEXT NOT NULL,\n",
        "    Salary REAL\n",
        ");\n",
        "\"\"\"\n",
        "cursor.execute(create_employees_table_query)\n",
        "\n",
        "# Step 2: Create the Departments table\n",
        "create_departments_table_query = \"\"\"\n",
        "CREATE TABLE Departments (\n",
        "    DepartmentID INTEGER PRIMARY KEY AUTOINCREMENT,\n",
        "    DepartmentName TEXT NOT NULL\n",
        ");\n",
        "\"\"\"\n",
        "cursor.execute(create_departments_table_query)\n",
        "\n",
        "# Step 3: Insert data into Employees table\n",
        "insert_employees_data_query = \"\"\"\n",
        "INSERT INTO Employees (Name, DepartmentID, Position, Salary)\n",
        "VALUES\n",
        "    ('John Doe', 1, 'Manager', 60000.00),\n",
        "    ('Jane Smith', 2, 'Analyst', 50000.00),\n",
        "    ('Alice Johnson', 1, 'Developer', 55000.00),\n",
        "    ('Bob Brown', 3, 'Developer', 48000.00),\n",
        "    ('Charlie Davis', 2, 'Analyst', 53000.00);\n",
        "\"\"\"\n",
        "cursor.execute(insert_employees_data_query)\n",
        "\n",
        "# Step 4: Insert data into Departments table\n",
        "insert_departments_data_query = \"\"\"\n",
        "INSERT INTO Departments (DepartmentName)\n",
        "VALUES\n",
        "    ('HR'),\n",
        "    ('Finance'),\n",
        "    ('IT');\n",
        "\"\"\"\n",
        "cursor.execute(insert_departments_data_query)\n",
        "\n",
        "# Commit the changes\n",
        "connection.commit()\n",
        "\n",
        "\n"
      ],
      "metadata": {
        "id": "uwOYik1zkbSd"
      },
      "execution_count": null,
      "outputs": []
    },
    {
      "cell_type": "code",
      "source": [
        "# Write a query to find all employees in the IT department who earn more than $45,000\n",
        "\n",
        "query = \"\"\"\n",
        "\n",
        "\"\"\"\n",
        "cursor.execute(query)\n",
        "results = cursor.fetchall()\n",
        "\n",
        "print(\"IT employees earning more than $45,000:\")\n",
        "for row in results:\n",
        "    print(row)\n"
      ],
      "metadata": {
        "id": "WshdpwIElOjC"
      },
      "execution_count": null,
      "outputs": []
    },
    {
      "cell_type": "markdown",
      "source": [
        "# Query Optimization with pandas\n",
        "Problem:\n",
        "You have a dataset representing orders. Write a Python script using pandas to find the top 5 customers who have spent the most money in the last year."
      ],
      "metadata": {
        "id": "GY76QslN4i4X"
      }
    },
    {
      "cell_type": "code",
      "source": [
        "import pandas as pd\n",
        "from datetime import datetime, timedelta\n",
        "\n",
        "# Sample data with fixed dates within the last year\n",
        "data = {\n",
        "    'order_id': [1, 2, 3, 4, 5, 6,7,8,9,10],\n",
        "    'product_id': [101, 102, 103, 104, 105, 106,107,108,109,110],\n",
        "    'customer_id': [10, 11, 11, 13, 14, 15,16,17,18,18],\n",
        "    'quantity': [5, 3, 2, 4, 6, 1,2,3,4,5],\n",
        "    'order_date': ['2023-06-01', '2023-02-20', '2023-03-10', '2023-04-18', '2023-05-25', '2023-06-01','2024-06-01', '2024-02-20', '2024-03-10', '2024-04-18'],\n",
        "    'total_amount': [250.00, 150.00, 300.00, 100.00, 200.00, 350.00,450.00, 950.00, 800.00, 1000.00]\n",
        "}\n",
        "\n",
        "# Create DataFrame\n",
        "\n"
      ],
      "metadata": {
        "id": "OM77dGke4gMr"
      },
      "execution_count": null,
      "outputs": []
    },
    {
      "cell_type": "code",
      "source": [
        "# Convert order_date to datetime and validate new datatype\n",
        "\n"
      ],
      "metadata": {
        "id": "oDabif1k5cAx"
      },
      "execution_count": null,
      "outputs": []
    },
    {
      "cell_type": "code",
      "source": [
        "# Check if DataFrame is empty otherwise Group by customer_id and calculate total_spent and Sort by total_spent in descending order and get top 5 customers please Display results\n"
      ],
      "metadata": {
        "id": "dhuISyF65mdm"
      },
      "execution_count": null,
      "outputs": []
    },
    {
      "cell_type": "markdown",
      "source": [
        "# Join with pandas\n",
        "Problem:\n",
        "Given two datasets representing employees and departments, write a Python script to find the number of employees in each department using pandas."
      ],
      "metadata": {
        "id": "mmPG7w3rFwsD"
      }
    },
    {
      "cell_type": "code",
      "source": [
        "# Sample data for employees\n",
        "employees_data = {\n",
        "    'employee_id': [1, 2, 3, 4, 5],\n",
        "    'employee_name': ['Alice', 'Bob', 'Charlie', 'David', 'Eva'],\n",
        "    'department_id': [10, 20, 10, 30, 20]\n",
        "}\n",
        "\n",
        "# Sample data for departments\n",
        "departments_data = {\n",
        "    'department_id': [10, 20, 30],\n",
        "    'department_name': ['HR', 'Engineering', 'Marketing']\n",
        "}\n",
        "\n",
        "# Create DataFrames\n",
        "\n",
        "\n",
        "# Perform left join\n",
        "\n",
        "\n",
        "# Group by department_name and count employees\n",
        "\n",
        "\n",
        "# Display results\n",
        "\n"
      ],
      "metadata": {
        "id": "BokGfJu6Ar9w"
      },
      "execution_count": null,
      "outputs": []
    },
    {
      "cell_type": "markdown",
      "source": [
        "# Python Challenge 1: Data Transformation\n",
        "Problem:\n",
        "Transform a list of dictionaries representing employees into a dictionary where the keys are department names and the values are lists of employee names."
      ],
      "metadata": {
        "id": "pGEf93lELjNL"
      }
    },
    {
      "cell_type": "code",
      "source": [
        "employees = [\n",
        "    {\"name\": \"Alice\", \"age\": 30, \"department\": \"HR\"},\n",
        "    {\"name\": \"Bob\", \"age\": 24, \"department\": \"Engineering\"},\n",
        "    {\"name\": \"Charlie\", \"age\": 29, \"department\": \"Marketing\"}\n",
        "]\n",
        "\n",
        "# Hint : Definition of transform_employees function: {'HR': ['Alice'], 'Engineering': ['Bob'], 'Marketing': ['Charlie']}\n",
        "# This function takes a list of employee dictionaries as input (employees) and transforms it into a dictionary where the keys are department names and the values are lists of employee names belonging to those departments.\n",
        "\n",
        "\n",
        "\n",
        "# Example usage:\n",
        "\n"
      ],
      "metadata": {
        "id": "uNg5WgtJG0lk"
      },
      "execution_count": null,
      "outputs": []
    },
    {
      "cell_type": "markdown",
      "source": [
        "# Python Challenge 2: ETL Process Simulation\n",
        "Problem:\n",
        "Simulate a simple ETL process using a CSV file. Extract data, filter rows where the \"age\" column is greater than 25, and save the transformed data to a new CSV file.\n",
        "\n",
        "Solution:"
      ],
      "metadata": {
        "id": "h4I4J6jDNJFY"
      }
    },
    {
      "cell_type": "code",
      "source": [
        "import pandas as pd\n",
        "\n",
        "# Sample data for the example\n",
        "data = {\n",
        "    'name': ['Alice', 'Bob', 'Charlie', 'David', 'Eva'],\n",
        "    'age': [30, 24, 29, 22, 35]\n",
        "}\n",
        "\n",
        "# Create DataFrame and save to CSV\n",
        "\n",
        "\n",
        "\n",
        "    # Extract\n",
        "\n",
        "\n",
        "    # Transform\n",
        "\n",
        "\n",
        "    # Load\n",
        "\n",
        "\n",
        "# Example usage:\n",
        "\n",
        "\n",
        "# Display the output CSV content\n",
        "\n"
      ],
      "metadata": {
        "id": "o_SqAy22NG7u"
      },
      "execution_count": null,
      "outputs": []
    },
    {
      "cell_type": "markdown",
      "source": [
        "# Airflow Challenge 1: Simple DAG Creation\n",
        "Problem:\n",
        "Create an Airflow DAG that runs a Python function print_hello every day at 8 AM."
      ],
      "metadata": {
        "id": "MVSiJBzCVGO1"
      }
    },
    {
      "cell_type": "code",
      "source": [
        "# First, ensure you have the necessary packages installed in Colab\n",
        "#!pip install apache-airflow\n",
        "\n",
        "\n",
        "from airflow import DAG\n",
        "from airflow.operators.python_operator import PythonOperator\n",
        "from datetime import datetime\n",
        "\n",
        "\n"
      ],
      "metadata": {
        "id": "zMd5lpyXVMn1"
      },
      "execution_count": null,
      "outputs": []
    },
    {
      "cell_type": "code",
      "source": [],
      "metadata": {
        "id": "zJSQZcZzVq-E"
      },
      "execution_count": null,
      "outputs": []
    },
    {
      "cell_type": "markdown",
      "source": [
        "# Airflow Challenge 2: ETL Pipeline DAG\n",
        "Problem:\n",
        "Create an Airflow DAG to simulate a simple ETL pipeline with three tasks: Extract, Transform, and Load."
      ],
      "metadata": {
        "id": "Yn03PeeWV1j_"
      }
    },
    {
      "cell_type": "code",
      "source": [
        "# First, ensure you have the necessary packages installed in Colab\n",
        "#!pip install apache-airflow\n",
        "\n",
        "from airflow import DAG\n",
        "from airflow.operators.python_operator import PythonOperator\n",
        "from datetime import datetime\n",
        "\n",
        "\n"
      ],
      "metadata": {
        "id": "xyQfdWXvV4Rt"
      },
      "execution_count": null,
      "outputs": []
    },
    {
      "cell_type": "markdown",
      "source": [
        "Create a simple Flask API that allows you to:\n",
        "Get a list of users.\n",
        "Add a new user to the list."
      ],
      "metadata": {
        "id": "k8qTsgdr1STw"
      }
    },
    {
      "cell_type": "markdown",
      "source": [
        "#Build and Run a Basic API"
      ],
      "metadata": {
        "id": "ISF5NGDL1Jum"
      }
    },
    {
      "cell_type": "markdown",
      "source": [
        "Create a simple API that allows you to:\n",
        "Get London weather."
      ],
      "metadata": {
        "id": "FcZk539h1e4Q"
      }
    },
    {
      "cell_type": "code",
      "source": [
        "import requests\n",
        "import json  # Import json to format the output\n",
        "\n",
        "# Replace with your own API key\n",
        "api_key = '95e5cce817824786182c1c111bf4ff3b'\n",
        "city = 'London'\n",
        "url = f'http://api.openweathermap.org/data/2.5/weather?q={city}&appid={api_key}'\n",
        "\n",
        "response = #use get function from request library (dont forget the url argument)\n",
        "\n",
        "#checks if the API request was successful (status code 200), and if so, it stores the response data in JSON format and prints it in a readable way; otherwise, it prints an error message with the status code.\n",
        "\n",
        "\n",
        "\n",
        "    # Pretty-print the JSON response with indentation\n",
        "    # Indent the JSON data with 4 spaces for readability"
      ],
      "metadata": {
        "colab": {
          "base_uri": "https://localhost:8080/"
        },
        "id": "N0e5u96CRgEC",
        "outputId": "70f20925-facb-4da6-e5c9-f8b18b48949b"
      },
      "execution_count": null,
      "outputs": [
        {
          "output_type": "stream",
          "name": "stdout",
          "text": [
            "{\n",
            "    \"coord\": {\n",
            "        \"lon\": -0.1257,\n",
            "        \"lat\": 51.5085\n",
            "    },\n",
            "    \"weather\": [\n",
            "        {\n",
            "            \"id\": 804,\n",
            "            \"main\": \"Clouds\",\n",
            "            \"description\": \"overcast clouds\",\n",
            "            \"icon\": \"04n\"\n",
            "        }\n",
            "    ],\n",
            "    \"base\": \"stations\",\n",
            "    \"main\": {\n",
            "        \"temp\": 286.45,\n",
            "        \"feels_like\": 286.21,\n",
            "        \"temp_min\": 285.38,\n",
            "        \"temp_max\": 287.01,\n",
            "        \"pressure\": 1007,\n",
            "        \"humidity\": 91,\n",
            "        \"sea_level\": 1007,\n",
            "        \"grnd_level\": 1002\n",
            "    },\n",
            "    \"visibility\": 10000,\n",
            "    \"wind\": {\n",
            "        \"speed\": 4.63,\n",
            "        \"deg\": 300\n",
            "    },\n",
            "    \"clouds\": {\n",
            "        \"all\": 100\n",
            "    },\n",
            "    \"dt\": 1727822832,\n",
            "    \"sys\": {\n",
            "        \"type\": 2,\n",
            "        \"id\": 2075535,\n",
            "        \"country\": \"GB\",\n",
            "        \"sunrise\": 1727762491,\n",
            "        \"sunset\": 1727804306\n",
            "    },\n",
            "    \"timezone\": 3600,\n",
            "    \"id\": 2643743,\n",
            "    \"name\": \"London\",\n",
            "    \"cod\": 200\n",
            "}\n"
          ]
        }
      ]
    }
  ]
}